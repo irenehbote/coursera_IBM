{
  "cells": [
    {
      "cell_type": "markdown",
      "id": "f35e5ad8",
      "metadata": {
        "id": "f35e5ad8"
      },
      "source": [
        "# Data Science Tools and Ecosystem\n",
        "\n"
      ]
    },
    {
      "cell_type": "markdown",
      "id": "fe17d67f",
      "metadata": {
        "id": "fe17d67f"
      },
      "source": [
        "In this notebook, Data Science Tools and Ecosystem are summarized."
      ]
    },
    {
      "cell_type": "markdown",
      "id": "270c4a02",
      "metadata": {
        "id": "270c4a02"
      },
      "source": [
        "Some of the popular languages that Data Scientists use are:\n",
        "1. Python\n",
        "2. R\n",
        "3. SQL"
      ]
    },
    {
      "cell_type": "markdown",
      "id": "52971267",
      "metadata": {
        "id": "52971267"
      },
      "source": [
        "Some of the commonly used libraries used by Data Scientists include:\n",
        "1. Pandas\n",
        "2. NumPy\n",
        "3. TensorFlow"
      ]
    },
    {
      "cell_type": "markdown",
      "id": "537a6486",
      "metadata": {
        "id": "537a6486"
      },
      "source": [
        "| Data Science Tools |\n",
        "|--------------------|\n",
        "| Jupyter Notebook   |\n",
        "| RStudio            |\n",
        "| Visual Studio Code |"
      ]
    },
    {
      "cell_type": "markdown",
      "id": "ab4b0a37",
      "metadata": {
        "id": "ab4b0a37"
      },
      "source": [
        "\n",
        "\n",
        "```\n",
        "# Tiene formato de código\n",
        "```\n",
        "\n",
        "### Below are a few examples of evaluating arithmetic expressions in Python."
      ]
    },
    {
      "cell_type": "code",
      "execution_count": null,
      "id": "b3388376",
      "metadata": {
        "id": "b3388376"
      },
      "outputs": [],
      "source": [
        "# This a simple arithmetic expression to multiply then add integers\n",
        "(3*4)+5"
      ]
    },
    {
      "cell_type": "code",
      "execution_count": null,
      "id": "44ff59e6",
      "metadata": {
        "id": "44ff59e6"
      },
      "outputs": [],
      "source": [
        "# This will convert 200 minutes to hours by dividing by 60\n",
        "200 / 60"
      ]
    },
    {
      "cell_type": "markdown",
      "id": "cb0b6ad6",
      "metadata": {
        "id": "cb0b6ad6"
      },
      "source": [
        "**Objectives:**\n",
        "- List popular languages for Data Science\n",
        "- List commonly used libraries in Data Science\n",
        "- Create and execute arithmetic expressions in Python\n",
        "- Share a Jupyter Notebook through GitHub"
      ]
    },
    {
      "cell_type": "markdown",
      "id": "2cf5f8b3",
      "metadata": {
        "id": "2cf5f8b3"
      },
      "source": [
        "## Author\n",
        "Irene Hernandez"
      ]
    }
  ],
  "metadata": {
    "colab": {
      "provenance": []
    }
  },
  "nbformat": 4,
  "nbformat_minor": 5
}